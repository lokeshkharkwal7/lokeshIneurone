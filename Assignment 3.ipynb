{
 "cells": [
  {
   "cell_type": "code",
   "execution_count": null,
   "id": "933ee810",
   "metadata": {},
   "outputs": [],
   "source": [
    "1. Why are functions advantageous to have in your programs?\n",
    "Ans. Functions help us to reuse the same codes again and again reducing loc and increasing efficiency of the code.\n",
    "\n",
    "2. When does the code in a function run: when it&#39;s specified or when it&#39;s called?\n",
    "Ans. Functions codes runs when it gets called in the main program with the help of the function name and parenthesis for eg functionname() \n",
    "and the function code is specified in either in the liberary itself or anywhere in the program with the help of def command followed\n",
    "by function name for eg. \n",
    "def functionnae(): Print(\"hello this is a function\"). \n",
    "    \n",
    "3. What statement creates a function?\n",
    "Ans def is used to create a function for eg.\n",
    "def functionnae(): \n",
    "    Print(\"hello this is a function\").\n",
    "\n",
    "4. What is the difference between a function and a function call?\n",
    "Ans. Function is generaly a block of code that returns a value or returns a operation while function call is the use \n",
    "of the actual code (actual function) to perform a certain operation.\n",
    "\n",
    "5. How many global scopes are there in a Python program? How many local scopes?\n",
    "Ans. Python only have one global scope whereas it may have multuple local scope which is based on the multiple functions. \n",
    "\n",
    "6. What happens to variables in a local scope when the function call returns?\n",
    "Ans. The scope of the local variable destroys as soon as the funtion call returns.\n",
    "\n",
    "7. What is the concept of a return value? Is it possible to have a return value in an expression?\n",
    "Ans. Return value in function actualy takes argument from the user and perform any operations dynamicaly with the provided argument,\n",
    "No it is possible to have a return value in a function.\n",
    "\n",
    "8. If a function does not have a return statement, what is the return value of a call to that function?\n",
    "Ans. Function return value will be None if the function does not return anything.\n",
    "\n",
    "9. How do you make a function variable refer to the global variable?\n",
    "Ans. We can use global keyword to turn any local variable into gloabal variable.\n",
    "\n",
    "10. What is the data type of None?\n",
    "Ans The None data type will be None Type.\n",
    "\n",
    "11. What does the sentence import areallyourpetsnamederic do?\n",
    "Ans import areaallourpetsnamederic will import all the available function stored in the liberary.\n",
    " \n",
    "12. If you had a bacon() feature in a spam module, what would you call it after importing spam?\n",
    "Ans. spam.bacon()\n",
    "\n",
    "13. What can you do to save a programme from crashing if it encounters an error?\n",
    "Ans. We can use exception handeling to cope up with the Program crashing errors.\n",
    "\n",
    "14. What is the purpose of the try clause? What is the purpose of the except clause?\n",
    "Ans. Try cause will test any case provided and generate exception to aoid crashing."
   ]
  },
  {
   "cell_type": "code",
   "execution_count": null,
   "id": "22483eb2",
   "metadata": {},
   "outputs": [],
   "source": []
  },
  {
   "cell_type": "code",
   "execution_count": 17,
   "id": "adc65841",
   "metadata": {},
   "outputs": [],
   "source": []
  }
 ],
 "metadata": {
  "kernelspec": {
   "display_name": "Python 3 (ipykernel)",
   "language": "python",
   "name": "python3"
  },
  "language_info": {
   "codemirror_mode": {
    "name": "ipython",
    "version": 3
   },
   "file_extension": ".py",
   "mimetype": "text/x-python",
   "name": "python",
   "nbconvert_exporter": "python",
   "pygments_lexer": "ipython3",
   "version": "3.9.12"
  }
 },
 "nbformat": 4,
 "nbformat_minor": 5
}
