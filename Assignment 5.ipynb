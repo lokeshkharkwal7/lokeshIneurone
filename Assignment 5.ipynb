{
 "cells": [
  {
   "cell_type": "code",
   "execution_count": 1,
   "id": "bf4cb522",
   "metadata": {},
   "outputs": [
    {
     "ename": "SyntaxError",
     "evalue": "invalid syntax (826233397.py, line 1)",
     "output_type": "error",
     "traceback": [
      "\u001b[1;36m  Input \u001b[1;32mIn [1]\u001b[1;36m\u001b[0m\n\u001b[1;33m    1. What does an empty dictionary&#39;s code look like?\u001b[0m\n\u001b[1;37m       ^\u001b[0m\n\u001b[1;31mSyntaxError\u001b[0m\u001b[1;31m:\u001b[0m invalid syntax\n"
     ]
    }
   ],
   "source": [
    "1. What does an empty dictionary&#39;s code look like?\n",
    "Ans. dictin1= {}\n",
    "2. What is the value of a dictionary value with the key &#39;foo&#39; and the value 42?\n",
    "Ans. 42\n",
    "\n",
    "3. What is the most significant distinction between a dictionary and a list?\n",
    "Ans The most significant distinction is that list can be access on the basis of its indexes while the dictionary can be accessed\n",
    "with the bases of its keys.\n",
    "\n",
    "4. What happens if you try to access spam[&#39;foo&#39;] if spam is {&#39;bar&#39;: 100}?\n",
    "Ans. It will show an key error.\n",
    "                                          \n",
    "5. If a dictionary is stored in spam, what is the difference between the expressions &#39;cat&#39; in spam and\n",
    "&#39;cat&#39; in spam.keys()?\n",
    "Ans. There is no difference. The in operator checks whether a value exists as a key in the dictionary. 'cat' in spam checks whether there is a \n",
    "'cat' key in the dictionary, while 'cat' in spam. keys() checks whether there is a key 'cat' for one of the keys in spam .\n",
    "\n",
    "6. If a dictionary is stored in spam, what is the difference between the expressions  in spam and\n",
    "in spam.values()?\n",
    "Ans. There is a difference. The in operator checks whether a value exists as a key in the dictionary. 'cat' in spam checks\n",
    "whether there is a 'cat' key in the dictionary, while 'cat' in spam. values() checks whether there is a value 'cat' for one \n",
    "of the keys in spam .\n",
    "\n",
    "                                          \n",
    "7. What is a shortcut for the following code?\n",
    "if color not in spam:\n",
    "spam[color] = black\n",
    "Ans. spam = {'clour':'Black' for i in spam if spam['colour']== 'Pink'}\n",
    "\n",
    "8. How do you &quot;pretty print&quot; dictionary values using which module and function?\n",
    "Ans.We can print keys and values with the help of a key and a value function along with we can also print values of the function\n",
    "by simply using ['Keys'] function."
   ]
  }
 ],
 "metadata": {
  "kernelspec": {
   "display_name": "Python 3 (ipykernel)",
   "language": "python",
   "name": "python3"
  },
  "language_info": {
   "codemirror_mode": {
    "name": "ipython",
    "version": 3
   },
   "file_extension": ".py",
   "mimetype": "text/x-python",
   "name": "python",
   "nbconvert_exporter": "python",
   "pygments_lexer": "ipython3",
   "version": "3.9.12"
  }
 },
 "nbformat": 4,
 "nbformat_minor": 5
}
