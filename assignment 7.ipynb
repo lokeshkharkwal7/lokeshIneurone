1. What is the name of the feature responsible for generating Regex objects?
   Answer: The re.compile() function is responsible for generating Regex objects.

2. Why do raw strings often appear in Regex objects?
   Answer: Raw strings (prefixed with r) are used in Regex objects to prevent the backslashes from being treated as escape characters, making it easier to write and read regular expressions.

3. What is the return value of the search() method?
   Answer: The search() method returns a Match object if a match is found; otherwise, it returns None.

4. From a Match item, how do you get the actual strings that match the pattern?
   Answer: You can use the group() method of the Match object to get the actual strings that match the pattern.

5. In the regex created from the r'(\d\d\d)-(\d\d\d-\d\d\d\d)', what does group zero cover? Group 2? Group 1?
   Answer: Group 0 covers the entire match, Group 1 covers the first set of parentheses (\d\d\d), and Group 2 covers the second set of parentheses (\d\d\d-\d\d\d\d).

6. In standard expression syntax, parentheses and intervals have distinct meanings. How can you tell a regex that you want it to fit real parentheses and periods?
   Answer: To match real parentheses and periods, you can use a backslash before them, like \( and \. in your regex.

7. The findall() method returns a string list or a list of string tuples. What causes it to return one of the two options?
   Answer: If the regex pattern contains no groups, findall() returns a list of strings. If the pattern contains groups, it returns a list of tuples where each tuple represents a match, and the elements of the tuple are the strings that matched each group.

8. In standard expressions, what does the | character mean?
   Answer: In standard expressions, the | character means "or." It allows you to match either the pattern on its left or the pattern on its right.

9. In regular expressions, what does the + character stand for?
   Answer: In regular expressions, the + character means "one or more occurrences of the preceding element."

10. In regular expressions, what is the difference between the + and * characters?
    Answer: The + character means "one or more occurrences," while the * character means "zero or more occurrences."

11. What is the difference between {4} and {4,5} in regular expression?
    Answer: {4} specifies exactly four occurrences, while {4,5} specifies between four and five occurrences.

12. What do you mean by the \d, \w, and \s shorthand character classes signify in regular expressions?
    Answer: In regular expressions, \d matches any digit (equivalent to [0-9]), \w matches any word character (alphanumeric + underscore), and \s matches any whitespace character (space, tab, newline).

13. What do \D, \W, and \S shorthand character classes signify in regular expressions?
    Answer: In regular expressions, \D matches any non-digit, \W matches any non-word character, and \S matches any non-whitespace character.

14. What is the difference between .*? and .*?
    Answer: .*? is a non-greedy match, matching as little text as possible, while .* is a greedy match, matching as much text as possible.

15. What is the syntax for matching both numbers and lowercase letters with a character class?
    Answer: The syntax is [0-9a-z] or [a-z0-9].

16. What is the procedure for making a normal expression in regex case insensitive?
    Answer: You can use the re.IGNORECASE or re.I flag as the second argument to re.compile().

17. What does the . character normally match? What does it match if re.DOTALL is passed as the 2nd argument in re.compile()?
    Answer: The . character normally matches any character except a newline. If re.DOTALL is passed, it matches any character, including a newline.

18. If numReg = re.compile(r'\d+'), what will numRegex.sub('X', '11 drummers, 10 pipers, five rings, 4 hen') return?
    Answer: It will return the string 'X drummers, X pipers, five rings, X hen'.

19. What does passing re.VERBOSE as the 2nd argument to re.compile() allow you to do?
    Answer: It allows you to include whitespace and comments within the pattern to make it more readable.

20. How would you write a regex that matches a number with a comma for every three digits?
    Answer: The regex pattern would be r'\d{1,3}(,\d{3})*'.

21. How would you write a regex that matches the full name of someone whose last name is Watanabe?
    Answer: The regex pattern would be r'[A-Z][a-zA-Z]*\sWatanabe'.

22. How would you write a regex that matches a sentence where the first word is either Alice, Bob, or Carol; the second word is either eats, pets, or throws; the third word is apples, cats, or baseballs; and the sentence ends with a period?
    Answer: The regex pattern would be r'(Alice|Bob|Carol)\s(eats|pets|throws)\s(apples|cats|baseballs)\.'.
