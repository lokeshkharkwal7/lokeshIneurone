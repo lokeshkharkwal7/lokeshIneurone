{
 "cells": [
  {
   "cell_type": "code",
   "execution_count": 1,
   "id": "bd865217",
   "metadata": {},
   "outputs": [
    {
     "ename": "SyntaxError",
     "evalue": "invalid syntax (1693789922.py, line 1)",
     "output_type": "error",
     "traceback": [
      "\u001b[1;36m  Input \u001b[1;32mIn [1]\u001b[1;36m\u001b[0m\n\u001b[1;33m    1. What exactly is []?\u001b[0m\n\u001b[1;37m       ^\u001b[0m\n\u001b[1;31mSyntaxError\u001b[0m\u001b[1;31m:\u001b[0m invalid syntax\n"
     ]
    }
   ],
   "source": [
    "1. What exactly is []?\n",
    "Ans. This is a operator which is used to create a list.\n",
    "\n",
    "Let&#39;s pretend the spam includes the list [&#39;a&#39;, &#39;b&#39;, &#39;c&#39;, &#39;d&#39;] for the next three queries.\n",
    "3. What is the value of spam[int(int(&#39;3&#39; * 2) / 11)]?\n",
    "Ans.8\n",
    "                                    \n",
    "4. What is the value of spam[-1]? \n",
    "Ans.10\n",
    "5. What is the value of spam[:2]? \n",
    "Ans.8\n",
    "Let&#39;s pretend bacon has the list [3.14, &#39;cat,&#39; 11, &#39;cat,&#39; True] for the next three questions.\n",
    "6. What is the value of bacon.index(&#39;cat&#39;)? \n",
    "Ans.2\n",
    "7. How does bacon.append(99) change the look of the list value in bacon? \n",
    "Ans.[3.14,'cat',11,'cat',True,99]\n",
    "8. How does bacon.remove(&#39;cat&#39;) change the look of the list in bacon? \n",
    "Ans.[3.14,11,'cat',True]\n",
    "9. What are the list concatenation and list replication operators?\n",
    "Ans.\n",
    "10. What is difference between the list methods append() and insert()? \n",
    "Ans. Append operation will insert an element in the end of the list whereas the insert option will enter an elment in the specified location.\n",
    "11. What are the two methods for removing items from a list?\n",
    "Ans. You can use remove function to remove item in the specifc location and you can also use pop operation to remove item from \n",
    "top of the list.\n",
    "12. Describe how list values and string values are identical.\n",
    "Ans. List and string both the element are iterable and there values can be accessed with the help of indices.\n",
    "                         \n",
    "13. What&#39;s the difference between tuples and lists?\n",
    "Ans Tuple are immutable and static entities  whereas lists are dynamic and mutable entities.\n",
    "                         \n",
    "14. How do you type a tuple value that only contains the integer 42?\n",
    "Ans a = (42,)\n",
    "15. How do you get a list value&#39;s tuple form? How do you get a tuple value&#39;s list form?\n",
    "Ans.\n",
    "a = ['hello', 5, 3,6,('hello',1,3,4)]\n",
    "b = ('hello', 5, 3,6,['hello',1,3,4])\n",
    "                         \n",
    "16. Variables that &quot;contain&quot; list values are not necessarily lists themselves. Instead, what do they\n",
    "contain?\n",
    "Ans. They are called sequence data types.\n",
    "                         \n",
    "17. How do you distinguish between copy.copy() and copy.deepcopy()?\n",
    "Ans. copy() create reference to original object. If you change copied object - you change the original object.\n",
    "deepcopy() creates new object and does real copying of original object to new one."
   ]
  },
  {
   "cell_type": "markdown",
   "id": "c8467a82",
   "metadata": {},
   "source": [
    "2. In a list of values stored in a variable called spam, how would you assign the value &#39;hello&#39; as the\n",
    "third value? (Assume [2, 4, 6, 8, 10] are in spam.)\n"
   ]
  },
  {
   "cell_type": "code",
   "execution_count": 22,
   "id": "0ab954a3",
   "metadata": {},
   "outputs": [
    {
     "data": {
      "text/plain": [
       "[2, 4, 'Hello', 8, 10]"
      ]
     },
     "execution_count": 22,
     "metadata": {},
     "output_type": "execute_result"
    }
   ],
   "source": [
    "spam =[2, 4, 6, 8, 10]\n",
    "spam[2]='Hello'\n",
    "spam"
   ]
  },
  {
   "cell_type": "markdown",
   "id": "ff6a43d7",
   "metadata": {},
   "source": []
  },
  {
   "cell_type": "code",
   "execution_count": 24,
   "id": "dcd5b82a",
   "metadata": {},
   "outputs": [
    {
     "ename": "TypeError",
     "evalue": "'str' object does not support item assignment",
     "output_type": "error",
     "traceback": [
      "\u001b[1;31m---------------------------------------------------------------------------\u001b[0m",
      "\u001b[1;31mTypeError\u001b[0m                                 Traceback (most recent call last)",
      "Input \u001b[1;32mIn [24]\u001b[0m, in \u001b[0;36m<cell line: 2>\u001b[1;34m()\u001b[0m\n\u001b[0;32m      1\u001b[0m string1\u001b[38;5;241m=\u001b[39m\u001b[38;5;124m'\u001b[39m\u001b[38;5;124mHello this is the program\u001b[39m\u001b[38;5;124m'\u001b[39m\n\u001b[1;32m----> 2\u001b[0m string1[\u001b[38;5;241m1\u001b[39m]\u001b[38;5;241m=\u001b[39m\u001b[38;5;124m'\u001b[39m\u001b[38;5;124mk\u001b[39m\u001b[38;5;124m'\u001b[39m\n\u001b[0;32m      3\u001b[0m \u001b[38;5;28mprint\u001b[39m(string1)\n",
      "\u001b[1;31mTypeError\u001b[0m: 'str' object does not support item assignment"
     ]
    }
   ],
   "source": [
    "string1='Hello this is the program'\n",
    "string1[1]='k'\n",
    "print(string1)"
   ]
  }
 ],
 "metadata": {
  "kernelspec": {
   "display_name": "Python 3 (ipykernel)",
   "language": "python",
   "name": "python3"
  },
  "language_info": {
   "codemirror_mode": {
    "name": "ipython",
    "version": 3
   },
   "file_extension": ".py",
   "mimetype": "text/x-python",
   "name": "python",
   "nbconvert_exporter": "python",
   "pygments_lexer": "ipython3",
   "version": "3.9.12"
  }
 },
 "nbformat": 4,
 "nbformat_minor": 5
}
