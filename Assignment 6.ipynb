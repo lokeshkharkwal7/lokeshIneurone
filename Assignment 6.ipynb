{
 "cells": [
  {
   "cell_type": "code",
   "execution_count": 20,
   "id": "9dfac302",
   "metadata": {},
   "outputs": [
    {
     "ename": "SyntaxError",
     "evalue": "invalid syntax (1699505617.py, line 2)",
     "output_type": "error",
     "traceback": [
      "\u001b[1;36m  Input \u001b[1;32mIn [20]\u001b[1;36m\u001b[0m\n\u001b[1;33m    Ans. Escape characters are some special symbols pedefined in the pytohn which help us to use escape sequences in a python\u001b[0m\n\u001b[1;37m                ^\u001b[0m\n\u001b[1;31mSyntaxError\u001b[0m\u001b[1;31m:\u001b[0m invalid syntax\n"
     ]
    }
   ],
   "source": [
    "1. What are escape characters, and how do you use them?\n",
    "Ans. Escape characters are some special symbols pedefined in the pytohn which help us to use escape sequences in a python\n",
    "print statement for example /n , /t , /b etc.\n",
    "\n",
    "2. What do the escape characters n and t stand for?\n",
    "Ans. /n stands for new line while /t stands for horizontal tab.\n",
    "\n",
    "3. What is the way to include backslash characters in a string?\n",
    "Ans. You can simply use /b which will act as a backslash character in python.\n",
    "\n",
    "4. The string &quot;Howl&#39;s Moving Castle&quot; is a correct value. Why isn&#39;t the single quote character in the\n",
    "word Howl&#39;s not escaped a problem?\n",
    "Ans It is beacause the statement is already been placed inside the string attribut which is \" \".\n",
    "\n",
    "5. How do you write a string of newlines if you dont't want to use the n character?\n",
    "Ans. we can use end in print statment to print a string in new line for eg. print('hello', end='')\n",
    "\n",
    "6. What are the values of the given expressions?\n",
    "Ans \n",
    "Hello, world!&#39;[1]     : e\n",
    "Hello, world!&#39;[0:5]   : Hello\n",
    "Hello, world!&#39;[:5]    : Hello\n",
    "Hello, world!&#39;[3:]    :lo, world!\n",
    "\n",
    "\n",
    "\n",
    "7. What are the values of the following expressions?\n",
    "'Hello'.upper()    :HELLO\n",
    "'Hello'.upper().isupper() : False\n",
    "'Hello'.upper().lower()   : False\n",
    "\n",
    "\n",
    "8. What are the values of the following expressions?\n",
    "'Remember, remember, the fifth of July'.split()  : ['Remember,', 'remember,', 'the', 'fifth', 'of', 'July']\n",
    "'-'.join('There can only one.'.split())   : 'There-can-only-one'\n",
    "\n",
    "\n",
    "9. What are the methods for right-justifying, left-justifying, and centering a string?\n",
    "Ans. Right,left,center justifying means to align the text on the right , left and the center of the window.\n",
    "\n",
    "10. What is the best way to remove whitespace characters from the start or end?\n",
    "Ans. strip is the best way to trim all the spaces from start and end."
   ]
  },
  {
   "cell_type": "code",
   "execution_count": 34,
   "id": "4ff7be4e",
   "metadata": {},
   "outputs": [
    {
     "name": "stdout",
     "output_type": "stream",
     "text": [
      "hello"
     ]
    }
   ],
   "source": [
    "str1=\" heelo \"\n",
    "print('hello', end='')\n"
   ]
  },
  {
   "cell_type": "code",
   "execution_count": 29,
   "id": "92476620",
   "metadata": {},
   "outputs": [
    {
     "data": {
      "text/plain": [
       "['Remember,', 'remember,', 'the', 'fifth', 'of', 'July']"
      ]
     },
     "execution_count": 29,
     "metadata": {},
     "output_type": "execute_result"
    }
   ],
   "source": [
    "'Remember, remember, the fifth of July'.split()"
   ]
  },
  {
   "cell_type": "code",
   "execution_count": 30,
   "id": "265ef7d7",
   "metadata": {},
   "outputs": [
    {
     "data": {
      "text/plain": [
       "'There-can-only-one'"
      ]
     },
     "execution_count": 30,
     "metadata": {},
     "output_type": "execute_result"
    }
   ],
   "source": [
    "'-'.join('There can only one'.split())"
   ]
  },
  {
   "cell_type": "code",
   "execution_count": 32,
   "id": "1e5b29e1",
   "metadata": {},
   "outputs": [
    {
     "name": "stdout",
     "output_type": "stream",
     "text": [
      "heelo\n"
     ]
    }
   ],
   "source": [
    "z=str1.strip()\n",
    "print(z)"
   ]
  }
 ],
 "metadata": {
  "kernelspec": {
   "display_name": "Python 3 (ipykernel)",
   "language": "python",
   "name": "python3"
  },
  "language_info": {
   "codemirror_mode": {
    "name": "ipython",
    "version": 3
   },
   "file_extension": ".py",
   "mimetype": "text/x-python",
   "name": "python",
   "nbconvert_exporter": "python",
   "pygments_lexer": "ipython3",
   "version": "3.9.12"
  }
 },
 "nbformat": 4,
 "nbformat_minor": 5
}
